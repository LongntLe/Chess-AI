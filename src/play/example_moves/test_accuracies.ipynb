{
 "cells": [
  {
   "cell_type": "code",
   "execution_count": 1,
   "metadata": {
    "collapsed": true
   },
   "outputs": [],
   "source": [
    "import caffe\n",
    "import numpy as np\n",
    "import h5py as h5\n",
    "from scipy.stats import *"
   ]
  },
  {
   "cell_type": "code",
   "execution_count": 7,
   "metadata": {
    "collapsed": false
   },
   "outputs": [],
   "source": [
    "net = caffe.Net(\"/data/convchess/src/net/nets/test_piece.prototxt\",\n",
    "                \"/data/convchess/src/play/models/piece.caffemodel\" ,\n",
    "                caffe.TEST)"
   ]
  },
  {
   "cell_type": "code",
   "execution_count": 8,
   "metadata": {
    "collapsed": false
   },
   "outputs": [
    {
     "data": {
      "text/plain": [
       "{'accuracy@1': array(0.5600000023841858, dtype=float32),\n",
       " 'accuracy@10': array(0.9950000047683716, dtype=float32),\n",
       " 'accuracy@3': array(0.8790000081062317, dtype=float32),\n",
       " 'accuracy@5': array(0.9580000042915344, dtype=float32),\n",
       " 'loss': array(1.1792654991149902, dtype=float32)}"
      ]
     },
     "execution_count": 8,
     "metadata": {},
     "output_type": "execute_result"
    }
   ],
   "source": [
    "net.forward()"
   ]
  },
  {
   "cell_type": "code",
   "execution_count": 17,
   "metadata": {
    "collapsed": false
   },
   "outputs": [],
   "source": [
    "net = caffe.Net(\"/data/convchess/src/net/nets/test_move2.prototxt\",\n",
    "                \"/data/convchess/src/play/models/rook.caffemodel\" ,\n",
    "                caffe.TEST)"
   ]
  },
  {
   "cell_type": "code",
   "execution_count": 18,
   "metadata": {
    "collapsed": false
   },
   "outputs": [
    {
     "data": {
      "text/plain": [
       "{'accuracy@1': array(0.5799999833106995, dtype=float32),\n",
       " 'accuracy@10': array(0.9959999918937683, dtype=float32),\n",
       " 'accuracy@3': array(0.8519999980926514, dtype=float32),\n",
       " 'accuracy@5': array(0.9359999895095825, dtype=float32),\n",
       " 'loss': array(1.1761966943740845, dtype=float32)}"
      ]
     },
     "execution_count": 18,
     "metadata": {},
     "output_type": "execute_result"
    }
   ],
   "source": [
    "net.forward()"
   ]
  },
  {
   "cell_type": "code",
   "execution_count": 20,
   "metadata": {
    "collapsed": false
   },
   "outputs": [
    {
     "data": {
      "text/plain": [
       "{'accuracy@1': array(0.9480000138282776, dtype=float32),\n",
       " 'accuracy@10': array(1.0, dtype=float32),\n",
       " 'accuracy@3': array(1.0, dtype=float32),\n",
       " 'accuracy@5': array(1.0, dtype=float32),\n",
       " 'loss': array(0.12401485443115234, dtype=float32)}"
      ]
     },
     "execution_count": 20,
     "metadata": {},
     "output_type": "execute_result"
    }
   ],
   "source": [
    "net = caffe.Net(\"/data/convchess/src/net/nets/test_move1.prototxt\",\n",
    "                \"/data/convchess/src/play/models/pawn.caffemodel\" ,\n",
    "                caffe.TEST)\n",
    "net.forward()"
   ]
  },
  {
   "cell_type": "code",
   "execution_count": 21,
   "metadata": {
    "collapsed": false
   },
   "outputs": [
    {
     "data": {
      "text/plain": [
       "{'accuracy@1': array(0.7730000019073486, dtype=float32),\n",
       " 'accuracy@10': array(1.0, dtype=float32),\n",
       " 'accuracy@3': array(0.9660000205039978, dtype=float32),\n",
       " 'accuracy@5': array(0.9929999709129333, dtype=float32),\n",
       " 'loss': array(0.5857052803039551, dtype=float32)}"
      ]
     },
     "execution_count": 21,
     "metadata": {},
     "output_type": "execute_result"
    }
   ],
   "source": [
    "net = caffe.Net(\"/data/convchess/src/net/nets/test_move3.prototxt\",\n",
    "                \"/data/convchess/src/play/models/knight.caffemodel\" ,\n",
    "                caffe.TEST)\n",
    "net.forward()"
   ]
  },
  {
   "cell_type": "code",
   "execution_count": 22,
   "metadata": {
    "collapsed": false
   },
   "outputs": [
    {
     "data": {
      "text/plain": [
       "{'accuracy@1': array(0.7699999809265137, dtype=float32),\n",
       " 'accuracy@10': array(1.0, dtype=float32),\n",
       " 'accuracy@3': array(0.9319999814033508, dtype=float32),\n",
       " 'accuracy@5': array(0.9819999933242798, dtype=float32),\n",
       " 'loss': array(0.6627870202064514, dtype=float32)}"
      ]
     },
     "execution_count": 22,
     "metadata": {},
     "output_type": "execute_result"
    }
   ],
   "source": [
    "net = caffe.Net(\"/data/convchess/src/net/nets/test_move4.prototxt\",\n",
    "                \"/data/convchess/src/play/models/bishop.caffemodel\" ,\n",
    "                caffe.TEST)\n",
    "net.forward()"
   ]
  },
  {
   "cell_type": "code",
   "execution_count": 23,
   "metadata": {
    "collapsed": false
   },
   "outputs": [
    {
     "data": {
      "text/plain": [
       "{'accuracy@1': array(0.5419999957084656, dtype=float32),\n",
       " 'accuracy@10': array(0.9819999933242798, dtype=float32),\n",
       " 'accuracy@3': array(0.8130000233650208, dtype=float32),\n",
       " 'accuracy@5': array(0.9039999842643738, dtype=float32),\n",
       " 'loss': array(1.3898370265960693, dtype=float32)}"
      ]
     },
     "execution_count": 23,
     "metadata": {},
     "output_type": "execute_result"
    }
   ],
   "source": [
    "net = caffe.Net(\"/data/convchess/src/net/nets/test_move5.prototxt\",\n",
    "                \"/data/convchess/src/play/models/queen.caffemodel\" ,\n",
    "                caffe.TEST)\n",
    "net.forward()"
   ]
  },
  {
   "cell_type": "code",
   "execution_count": 24,
   "metadata": {
    "collapsed": false
   },
   "outputs": [
    {
     "data": {
      "text/plain": [
       "{'accuracy@1': array(0.7170000076293945, dtype=float32),\n",
       " 'accuracy@10': array(1.0, dtype=float32),\n",
       " 'accuracy@3': array(0.9559999704360962, dtype=float32),\n",
       " 'accuracy@5': array(0.9959999918937683, dtype=float32),\n",
       " 'loss': array(0.7289654612541199, dtype=float32)}"
      ]
     },
     "execution_count": 24,
     "metadata": {},
     "output_type": "execute_result"
    }
   ],
   "source": [
    "net = caffe.Net(\"/data/convchess/src/net/nets/test_move6.prototxt\",\n",
    "                \"/data/convchess/src/play/models/king.caffemodel\" ,\n",
    "                caffe.TEST)\n",
    "net.forward()"
   ]
  },
  {
   "cell_type": "code",
   "execution_count": 27,
   "metadata": {
    "collapsed": false
   },
   "outputs": [
    {
     "data": {
      "text/plain": [
       "array([[ -5.04665518,  -5.23454571,  -4.28922462, ...,  11.2050724 ,\n",
       "         11.06390572,   9.9497633 ],\n",
       "       [ -8.85535145,  -7.27230406,  -8.53485394, ...,  24.91072655,\n",
       "         25.79554939,  25.40492058],\n",
       "       [  1.43531787,  -3.54025817,  -3.10975504, ...,  -0.59110522,\n",
       "         -0.66604668,  -2.09298348],\n",
       "       ..., \n",
       "       [ -3.71319413,  -3.21743655,  -3.87624574, ...,  -2.2306664 ,\n",
       "          2.16734004,  -3.22062635],\n",
       "       [ -0.52553231,  -3.83826613,  -1.29932678, ...,  -0.3407836 ,\n",
       "          0.46203932,  -2.9451077 ],\n",
       "       [ -0.91345423,  -3.9664166 ,  -0.96630943, ...,  -1.23698211,\n",
       "         -1.52308917,  -3.4636302 ]], dtype=float32)"
      ]
     },
     "execution_count": 27,
     "metadata": {},
     "output_type": "execute_result"
    }
   ],
   "source": [
    "net.blobs['data'].data"
   ]
  },
  {
   "cell_type": "code",
   "execution_count": 2,
   "metadata": {
    "collapsed": false
   },
   "outputs": [
    {
     "name": "stdout",
     "output_type": "stream",
     "text": [
      "/data/convchess/src/play\n"
     ]
    }
   ],
   "source": [
    "cd .."
   ]
  },
  {
   "cell_type": "code",
   "execution_count": 2,
   "metadata": {
    "collapsed": false
   },
   "outputs": [
    {
     "name": "stdout",
     "output_type": "stream",
     "text": [
      "(314740, 13, 8, 8)\n"
     ]
    }
   ],
   "source": [
    "net = caffe.Net(\"/data/convchess/src/play/models/piece.prototxt\",\n",
    "                \"/data/convchess/src/play/models/piece.caffemodel\" ,\n",
    "                caffe.TEST)\n",
    "h5file = h5.File(\"/data/ConvChess/data/CvC_data_multi_elolayer_piecelayer_h5/X_120000_122500.h5\")\n",
    "testdata = np.asarray(h5file['data'])\n",
    "testlabel = np.asarray(h5file['label'])\n",
    "net.set_input_arrays(testdata, testlabel)\n",
    "print testdata.shape"
   ]
  },
  {
   "cell_type": "code",
   "execution_count": 32,
   "metadata": {
    "collapsed": false
   },
   "outputs": [
    {
     "name": "stdout",
     "output_type": "stream",
     "text": [
      "(65926, 14, 8, 8)\n"
     ]
    }
   ],
   "source": [
    "net = caffe.Net(\"/data/convchess/src/play/models/move.prototxt\",\n",
    "                \"/data/convchess/src/play/models/pawn.caffemodel\" ,\n",
    "                caffe.TEST)\n",
    "h5file = h5.File(\"/data/ConvChess/data/CvC_data_multi_elolayer_piecelayer_h5/p1_X_120000_122500.h5\")\n",
    "testdata = np.asarray(h5file['data'])\n",
    "testlabel = np.asarray(h5file['label'])\n",
    "net.set_input_arrays(testdata, testlabel)\n",
    "print testdata.shape"
   ]
  },
  {
   "cell_type": "code",
   "execution_count": 33,
   "metadata": {
    "collapsed": false
   },
   "outputs": [
    {
     "name": "stdout",
     "output_type": "stream",
     "text": [
      "0 out of 65926 done\n",
      "50000 out of 65926 done\n",
      "0.920744471074 0.92078997664 [ 0.00017173] [ 0.00058239] 4.55055668477e-05 1.08001395504 1.07996844947\n"
     ]
    }
   ],
   "source": [
    "correct1 = 0.0\n",
    "correct2 =0.0\n",
    "sqeuc = 0.0\n",
    "cheby = 0.0\n",
    "mishit = 0.0\n",
    "ranksum1 = 0.0\n",
    "ranksum2 = 0.0\n",
    "#num =100\n",
    "num = testlabel.shape[0]\n",
    "for i in xrange(num):#num):\n",
    "    if i%50000 == 0 :\n",
    "        print \"%d out of %d done\"%(i,num)\n",
    "    net.forward()\n",
    "    prob = net.blobs['prob'].data\n",
    "    label = net.blobs['label'].data[0].flatten()[0]\n",
    "    ranks1 = prob[0].argsort()[::-1]\n",
    "    label_rank1 = np.where(ranks1==label)[0][0]\n",
    "    pred_label1 = ranks1[0]\n",
    "    ranksum1 +=label_rank1+1\n",
    "    #print convert_image_to_bitboard_2(np.rollaxis(net.blobs['data'].data[0], 0, 2))\n",
    "    piecepos = np.array(np.where(net.blobs['data'].data[0][13]==1)).flatten()\n",
    "    #print tuple(piecepos)\n",
    "    legal_move_prob = prob[0][label]\n",
    "    prob2= clip_moves_2(prob, \n",
    "                        net.blobs['data'].data[0][:12], \n",
    "                        piecepos, normalize=False)[0]\n",
    "    prob2[label] = legal_move_prob\n",
    "    prob2 = prob2/np.sum(prob2)\n",
    "    #print prob, prob2\n",
    "    prob = prob[0]\n",
    "    ranks2 = prob2.argsort()[::-1]\n",
    "    pred_label2 = ranks2[0]\n",
    "    label_rank2 = np.where(ranks2==label)[0][0]\n",
    "    ranksum2+=label_rank2+1\n",
    "    if pred_label1==label:\n",
    "        correct1 += 1.0\n",
    "    if pred_label2!=pred_label1:\n",
    "        mishit+=1\n",
    "    if pred_label2==label:\n",
    "        correct2 += 1.0\n",
    "    #print label, pred_label1, pred_label2\n",
    "    #print label_rank1\n",
    "    sqeuc += scipy.spatial.distance.pdist((prob,prob2),'sqeuclidean')\n",
    "    cheby +=scipy.spatial.distance.pdist((prob,prob2),'chebyshev')\n",
    "print correct1/num, correct2/num, sqeuc/num, cheby/num, mishit/num, ranksum1/num, ranksum2/num\n",
    "#dist cosine(prob[0], prob2[0])"
   ]
  },
  {
   "cell_type": "code",
   "execution_count": 6,
   "metadata": {
    "collapsed": false
   },
   "outputs": [],
   "source": [
    "import scipy\n"
   ]
  },
  {
   "cell_type": "code",
   "execution_count": 5,
   "metadata": {
    "collapsed": false
   },
   "outputs": [],
   "source": [
    "from util import *"
   ]
  },
  {
   "cell_type": "code",
   "execution_count": 71,
   "metadata": {
    "collapsed": false
   },
   "outputs": [],
   "source": [
    "probs = np.zeros((1000,64))\n",
    "for i, image in enumerate(net.blobs['data'].data):\n",
    "    probs[i] = clip_pieces_single_2(net.blobs['fc1'].data[i], image[0:12], normalize=False)"
   ]
  },
  {
   "cell_type": "code",
   "execution_count": 41,
   "metadata": {
    "collapsed": true
   },
   "outputs": [
    {
     "name": "stdout",
     "output_type": "stream",
     "text": [
      "[[ -0.          -0.          -0.          -0.          -0.          -0.\n",
      "    0.          -0.        ]\n",
      " [ -0.          -0.          -0.          -3.74951887  -0.          -0.\n",
      "   -0.          -0.        ]\n",
      " [ -0.          -0.          -0.          -0.          -0.           1.38697994\n",
      "    4.59872961   0.        ]\n",
      " [ -0.          -0.          -0.          -0.           0.           8.83368969\n",
      "    0.           0.        ]\n",
      " [ -0.          -0.          -0.          -0.           0.           0.\n",
      "    0.          15.73781586]\n",
      " [ -0.          -0.          -0.           0.           6.17113495   0.\n",
      "    9.32830906   0.        ]\n",
      " [ -0.          -0.          -0.           0.           0.           0.\n",
      "    0.           0.        ]\n",
      " [ -0.          -0.          -0.           0.           0.           0.\n",
      "    0.           0.        ]]\n",
      "[[[ 0.          0.          0.          0.          0.          0.          0.\n",
      "    0.        ]\n",
      "  [ 0.          0.          0.          0.          0.          0.          0.\n",
      "    0.        ]\n",
      "  [ 0.          0.          0.          0.          0.          0.          0.\n",
      "    0.        ]\n",
      "  [ 0.          0.          0.          0.          0.          0.          0.\n",
      "    0.        ]\n",
      "  [ 0.          0.          0.          0.          0.          0.          0.\n",
      "    1.        ]\n",
      "  [ 0.          0.          0.          0.          0.          0.          0.\n",
      "    0.        ]\n",
      "  [ 0.          0.          0.          0.          0.          0.          0.\n",
      "    0.        ]\n",
      "  [ 0.          0.          0.          0.          0.          0.          0.\n",
      "    0.        ]]\n",
      "\n",
      " [[ 0.          0.          0.          0.          0.          0.          0.\n",
      "    0.        ]\n",
      "  [ 0.          0.          0.          0.          0.          0.          0.\n",
      "    0.        ]\n",
      "  [ 0.          0.          0.          0.          0.          1.          1.\n",
      "    0.        ]\n",
      "  [ 0.          0.          0.          0.          0.          0.          0.\n",
      "    0.        ]\n",
      "  [ 0.          0.          0.          0.          0.          0.          0.\n",
      "    0.        ]\n",
      "  [ 0.          0.          0.          0.          0.          0.          0.\n",
      "    0.        ]\n",
      "  [ 0.          0.          0.          0.          0.          0.          0.\n",
      "    0.        ]\n",
      "  [ 0.          0.          0.          0.          0.          0.          0.\n",
      "    0.        ]]\n",
      "\n",
      " [[ 0.          0.          0.          0.          0.          0.          0.\n",
      "    0.        ]\n",
      "  [ 0.          0.          0.          0.          0.          0.          0.\n",
      "    0.        ]\n",
      "  [ 0.          0.          0.          0.          0.          0.          0.\n",
      "    0.        ]\n",
      "  [ 0.          0.          0.          0.          0.          0.          0.\n",
      "    0.        ]\n",
      "  [ 0.          0.          0.          0.          0.          0.          0.\n",
      "    0.        ]\n",
      "  [ 0.          0.          0.          0.          1.          0.          0.\n",
      "    0.        ]\n",
      "  [ 0.          0.          0.          0.          0.          0.          0.\n",
      "    0.        ]\n",
      "  [ 0.          0.          0.          0.          0.          0.          0.\n",
      "    0.        ]]\n",
      "\n",
      " [[ 0.          0.          0.          0.          0.          0.          0.\n",
      "    0.        ]\n",
      "  [ 0.          0.          0.          1.          0.          0.          0.\n",
      "    0.        ]\n",
      "  [ 0.          0.          0.          0.          0.          0.          0.\n",
      "    0.        ]\n",
      "  [ 0.          0.          0.          0.          0.          0.          0.\n",
      "    0.        ]\n",
      "  [ 0.          0.          0.          0.          0.          0.          0.\n",
      "    0.        ]\n",
      "  [ 0.          0.          0.          0.          0.          0.          0.\n",
      "    0.        ]\n",
      "  [ 0.          0.          0.          0.          0.          0.          0.\n",
      "    0.        ]\n",
      "  [ 0.          0.          0.          0.          0.          0.          0.\n",
      "    0.        ]]\n",
      "\n",
      " [[ 0.          0.          0.          0.          0.          0.          0.\n",
      "    0.        ]\n",
      "  [ 0.          0.          0.          0.          0.          0.          0.\n",
      "    0.        ]\n",
      "  [ 0.          0.          0.          0.          0.          0.          0.\n",
      "    0.        ]\n",
      "  [ 0.          0.          0.          0.          0.          0.          0.\n",
      "    0.        ]\n",
      "  [ 0.          0.          0.          0.          0.          0.          0.\n",
      "    0.        ]\n",
      "  [ 0.          0.          0.          0.          0.          0.          0.\n",
      "    0.        ]\n",
      "  [ 0.          0.          0.          0.          0.          0.          0.\n",
      "    0.        ]\n",
      "  [ 0.          0.          0.          0.          0.          0.          0.\n",
      "    0.        ]]\n",
      "\n",
      " [[ 0.          0.          0.          0.          0.          0.          0.\n",
      "    0.        ]\n",
      "  [ 0.          0.          0.          0.          0.          0.          0.\n",
      "    0.        ]\n",
      "  [ 0.          0.          0.          0.          0.          0.          0.\n",
      "    0.        ]\n",
      "  [ 0.          0.          0.          0.          0.          0.          0.\n",
      "    0.        ]\n",
      "  [ 0.          0.          0.          0.          0.          0.          0.\n",
      "    0.        ]\n",
      "  [ 0.          0.          0.          0.          0.          0.          0.\n",
      "    0.        ]\n",
      "  [ 0.          0.          0.          0.          0.          0.          0.\n",
      "    0.        ]\n",
      "  [ 0.          0.          0.          0.          0.          0.          0.\n",
      "    0.        ]]\n",
      "\n",
      " [[ 0.          0.          0.          0.          0.          0.          0.\n",
      "    0.        ]\n",
      "  [ 0.          0.          0.          0.          0.          0.          0.\n",
      "    0.        ]\n",
      "  [ 0.          0.          0.          0.          0.          0.          0.\n",
      "    0.        ]\n",
      "  [ 0.          0.          0.          0.          0.          0.          0.\n",
      "    0.        ]\n",
      "  [ 0.          0.          0.          0.          0.          0.          0.\n",
      "    0.        ]\n",
      "  [ 0.          0.          0.          0.          0.          0.          0.\n",
      "    0.        ]\n",
      "  [ 0.          0.          0.          0.          0.          0.          0.\n",
      "    0.        ]\n",
      "  [ 0.          0.          0.          0.          0.          0.          0.\n",
      "    0.        ]]\n",
      "\n",
      " [[ 0.          0.          0.          0.          0.          0.          0.\n",
      "    0.        ]\n",
      "  [ 0.          0.          0.          0.          0.          0.          0.\n",
      "    0.        ]\n",
      "  [ 0.          0.          0.          0.          0.          0.          0.\n",
      "    0.        ]\n",
      "  [ 0.          0.          0.          0.          0.          0.          0.\n",
      "    0.        ]\n",
      "  [ 0.          0.          0.          0.          0.          0.          0.\n",
      "    0.        ]\n",
      "  [ 0.          0.          0.          0.          0.          0.          0.\n",
      "    0.        ]\n",
      "  [ 0.          0.          0.          0.          0.          0.          0.\n",
      "    0.        ]\n",
      "  [ 0.          0.          0.          0.          0.          0.          0.\n",
      "    0.        ]]\n",
      "\n",
      " [[ 0.          0.          0.          0.          0.          0.          0.\n",
      "    0.        ]\n",
      "  [ 0.          0.          0.          0.          0.          0.          0.\n",
      "    0.        ]\n",
      "  [ 0.          0.          0.          0.          0.          0.          0.\n",
      "    0.        ]\n",
      "  [ 0.          0.          0.          0.          0.          0.          0.\n",
      "    0.        ]\n",
      "  [ 0.          0.          0.          0.          0.          0.          0.\n",
      "    0.        ]\n",
      "  [ 0.          0.          0.          0.          0.          0.          0.\n",
      "    0.        ]\n",
      "  [ 0.          0.          0.          0.          0.          0.          0.\n",
      "    0.        ]\n",
      "  [ 0.          0.          0.          0.          0.          0.          0.\n",
      "    0.        ]]\n",
      "\n",
      " [[ 0.          0.          0.          0.          0.          0.          0.\n",
      "    0.        ]\n",
      "  [ 0.          0.          0.          0.          0.          0.          0.\n",
      "    0.        ]\n",
      "  [ 0.          0.          0.          0.          0.          0.          0.\n",
      "    0.        ]\n",
      "  [ 0.          0.          0.          0.          0.          0.          0.\n",
      "    0.        ]\n",
      "  [ 0.          0.          0.          0.          0.          0.          0.\n",
      "    0.        ]\n",
      "  [ 0.          0.          0.          0.          0.          0.          0.\n",
      "    0.        ]\n",
      "  [ 0.          0.          0.          0.          0.          0.          0.\n",
      "    0.        ]\n",
      "  [ 0.          0.          0.          0.          0.          0.          0.\n",
      "    0.        ]]\n",
      "\n",
      " [[ 0.          0.          0.          0.          0.          0.          0.\n",
      "    0.        ]\n",
      "  [ 0.          0.          0.          0.          0.          0.          0.\n",
      "    0.        ]\n",
      "  [ 0.          0.          0.          0.          0.          0.          0.\n",
      "    0.        ]\n",
      "  [ 0.          0.          0.          0.          0.          0.          0.\n",
      "    0.        ]\n",
      "  [ 0.          0.          0.          0.          0.          0.          0.\n",
      "    0.        ]\n",
      "  [ 0.          0.          0.          0.          0.          0.          1.\n",
      "    0.        ]\n",
      "  [ 0.          0.          0.          0.          0.          0.          0.\n",
      "    0.        ]\n",
      "  [ 0.          0.          0.          0.          0.          0.          0.\n",
      "    0.        ]]\n",
      "\n",
      " [[ 0.          0.          0.          0.          0.          0.          0.\n",
      "    0.        ]\n",
      "  [ 0.          0.          0.          0.          0.          0.          0.\n",
      "    0.        ]\n",
      "  [ 0.          0.          0.          0.          0.          0.          0.\n",
      "    0.        ]\n",
      "  [ 0.          0.          0.          0.          0.          1.          0.\n",
      "    0.        ]\n",
      "  [ 0.          0.          0.          0.          0.          0.          0.\n",
      "    0.        ]\n",
      "  [ 0.          0.          0.          0.          0.          0.          0.\n",
      "    0.        ]\n",
      "  [ 0.          0.          0.          0.          0.          0.          0.\n",
      "    0.        ]\n",
      "  [ 0.          0.          0.          0.          0.          0.          0.\n",
      "    0.        ]]\n",
      "\n",
      " [[ 0.60956174  0.60956174  0.60956174  0.60956174  0.60956174  0.60956174\n",
      "    0.60956174  0.60956174]\n",
      "  [ 0.60956174  0.60956174  0.60956174  0.60956174  0.60956174  0.60956174\n",
      "    0.60956174  0.60956174]\n",
      "  [ 0.60956174  0.60956174  0.60956174  0.60956174  0.60956174  0.60956174\n",
      "    0.60956174  0.60956174]\n",
      "  [ 0.60956174  0.60956174  0.60956174  0.60956174  0.60956174  0.60956174\n",
      "    0.60956174  0.60956174]\n",
      "  [ 0.60956174  0.60956174  0.60956174  0.60956174  0.60956174  0.60956174\n",
      "    0.60956174  0.60956174]\n",
      "  [ 0.60956174  0.60956174  0.60956174  0.60956174  0.60956174  0.60956174\n",
      "    0.60956174  0.60956174]\n",
      "  [ 0.60956174  0.60956174  0.60956174  0.60956174  0.60956174  0.60956174\n",
      "    0.60956174  0.60956174]\n",
      "  [ 0.60956174  0.60956174  0.60956174  0.60956174  0.60956174  0.60956174\n",
      "    0.60956174  0.60956174]]\n",
      "\n",
      " [[ 0.          0.          0.          0.          0.          0.          0.\n",
      "    0.        ]\n",
      "  [ 0.          0.          0.          0.          0.          0.          0.\n",
      "    0.        ]\n",
      "  [ 0.          0.          0.          0.          0.          0.          0.\n",
      "    0.        ]\n",
      "  [ 0.          0.          0.          0.          0.          0.          0.\n",
      "    0.        ]\n",
      "  [ 0.          0.          0.          0.          0.          0.          0.\n",
      "    0.        ]\n",
      "  [ 0.          0.          0.          0.          0.          0.          1.\n",
      "    0.        ]\n",
      "  [ 0.          0.          0.          0.          0.          0.          0.\n",
      "    0.        ]\n",
      "  [ 0.          0.          0.          0.          0.          0.          0.\n",
      "    0.        ]]]\n"
     ]
    }
   ],
   "source": [
    "print np.reshape(probs[0],(8,8))\n",
    "print net.blobs['data'].data[0]"
   ]
  },
  {
   "cell_type": "code",
   "execution_count": 35,
   "metadata": {
    "collapsed": true
   },
   "outputs": [
    {
     "name": "stdout",
     "output_type": "stream",
     "text": [
      "[6 6]\n",
      "[[[ 0.          0.          0.          0.          0.          0.          0.\n",
      "    0.        ]\n",
      "  [ 0.          0.          0.          0.          0.          0.          0.\n",
      "    0.        ]\n",
      "  [ 0.          0.          0.          0.          0.          0.          0.\n",
      "    0.        ]\n",
      "  [ 0.          0.          1.          0.          0.          1.          0.\n",
      "    0.        ]\n",
      "  [ 1.          0.          0.          0.          0.          0.          0.\n",
      "    0.        ]\n",
      "  [ 0.          0.          0.          0.          0.          0.          0.\n",
      "    0.        ]\n",
      "  [ 0.          0.          0.          0.          0.          0.          0.\n",
      "    0.        ]\n",
      "  [ 0.          0.          0.          0.          0.          0.          0.\n",
      "    0.        ]]\n",
      "\n",
      " [[ 0.          0.          0.          0.          0.          0.          0.\n",
      "    0.        ]\n",
      "  [ 0.          0.          0.          0.          0.          1.          1.\n",
      "    0.        ]\n",
      "  [ 0.          0.          0.          0.          0.          0.          0.\n",
      "    0.        ]\n",
      "  [ 1.          0.          0.          0.          0.          0.          0.\n",
      "    0.        ]\n",
      "  [ 0.          1.          0.          0.          0.          0.          0.\n",
      "    1.        ]\n",
      "  [ 0.          0.          0.          0.          0.          0.          0.\n",
      "    0.        ]\n",
      "  [ 0.          0.          0.          0.          0.          0.          0.\n",
      "    0.        ]\n",
      "  [ 0.          0.          0.          0.          0.          0.          0.\n",
      "    0.        ]]\n",
      "\n",
      " [[ 0.          0.          0.          0.          0.          0.          0.\n",
      "    0.        ]\n",
      "  [ 0.          0.          0.          0.          0.          0.          0.\n",
      "    0.        ]\n",
      "  [ 0.          0.          0.          0.          0.          0.          0.\n",
      "    0.        ]\n",
      "  [ 0.          0.          0.          0.          0.          0.          0.\n",
      "    0.        ]\n",
      "  [ 0.          0.          0.          0.          0.          0.          0.\n",
      "    0.        ]\n",
      "  [ 0.          0.          0.          0.          0.          0.          0.\n",
      "    0.        ]\n",
      "  [ 0.          0.          0.          0.          0.          0.          0.\n",
      "    0.        ]\n",
      "  [ 0.          0.          0.          0.          0.          0.          0.\n",
      "    0.        ]]\n",
      "\n",
      " [[ 0.          0.          0.          0.          0.          0.          0.\n",
      "    0.        ]\n",
      "  [ 0.          0.          0.          0.          0.          0.          0.\n",
      "    0.        ]\n",
      "  [ 0.          0.          0.          0.          0.          0.          0.\n",
      "    0.        ]\n",
      "  [ 0.          0.          0.          0.          0.          0.          0.\n",
      "    0.        ]\n",
      "  [ 0.          0.          0.          0.          0.          0.          0.\n",
      "    0.        ]\n",
      "  [ 0.          0.          0.          0.          0.          0.          0.\n",
      "    0.        ]\n",
      "  [ 0.          0.          0.          0.          0.          0.          0.\n",
      "    0.        ]\n",
      "  [ 0.          0.          0.          0.          0.          0.          0.\n",
      "    0.        ]]\n",
      "\n",
      " [[ 0.          0.          0.          0.          0.          0.          0.\n",
      "    0.        ]\n",
      "  [ 0.          0.          0.          0.          0.          0.          0.\n",
      "    0.        ]\n",
      "  [ 0.          0.          0.          0.          0.          0.          0.\n",
      "    0.        ]\n",
      "  [ 0.          0.          0.          0.          0.          0.          0.\n",
      "    0.        ]\n",
      "  [ 0.          0.          0.          0.          0.          0.          0.\n",
      "    0.        ]\n",
      "  [ 0.          0.          0.          0.          0.          0.          0.\n",
      "    0.        ]\n",
      "  [ 0.          0.          0.          0.          0.          0.          1.\n",
      "    0.        ]\n",
      "  [ 0.          0.          0.          0.          0.          0.          0.\n",
      "    0.        ]]\n",
      "\n",
      " [[ 0.          0.          0.          0.          0.          0.          0.\n",
      "    0.        ]\n",
      "  [ 0.          0.          0.          0.          0.          0.          0.\n",
      "    0.        ]\n",
      "  [ 0.          0.          0.          0.          0.          0.          0.\n",
      "    0.        ]\n",
      "  [ 0.          0.          0.          0.          0.          0.          0.\n",
      "    0.        ]\n",
      "  [ 0.          0.          0.          0.          0.          0.          0.\n",
      "    0.        ]\n",
      "  [ 0.          0.          0.          0.          0.          0.          0.\n",
      "    0.        ]\n",
      "  [ 0.          0.          0.          0.          0.          0.          0.\n",
      "    0.        ]\n",
      "  [ 0.          0.          0.          0.          0.          0.          0.\n",
      "    0.        ]]\n",
      "\n",
      " [[ 0.          0.          0.          0.          0.          0.          0.\n",
      "    0.        ]\n",
      "  [ 0.          0.          0.          0.          0.          0.          0.\n",
      "    0.        ]\n",
      "  [ 0.          0.          0.          0.          0.          0.          0.\n",
      "    0.        ]\n",
      "  [ 0.          0.          0.          1.          0.          0.          0.\n",
      "    0.        ]\n",
      "  [ 0.          0.          0.          0.          0.          0.          0.\n",
      "    0.        ]\n",
      "  [ 0.          0.          0.          0.          0.          0.          0.\n",
      "    0.        ]\n",
      "  [ 0.          0.          0.          0.          0.          0.          0.\n",
      "    0.        ]\n",
      "  [ 0.          0.          0.          0.          0.          0.          0.\n",
      "    0.        ]]\n",
      "\n",
      " [[ 0.          0.          0.          0.          0.          0.          0.\n",
      "    0.        ]\n",
      "  [ 0.          0.          0.          0.          0.          0.          0.\n",
      "    0.        ]\n",
      "  [ 0.          0.          0.          0.          0.          0.          0.\n",
      "    0.        ]\n",
      "  [ 0.          0.          0.          0.          0.          0.          0.\n",
      "    0.        ]\n",
      "  [ 0.          0.          0.          0.          0.          0.          0.\n",
      "    0.        ]\n",
      "  [ 0.          0.          0.          0.          0.          0.          1.\n",
      "    0.        ]\n",
      "  [ 0.          0.          0.          0.          0.          0.          0.\n",
      "    0.        ]\n",
      "  [ 0.          0.          0.          0.          0.          0.          0.\n",
      "    0.        ]]\n",
      "\n",
      " [[ 0.          0.          0.          0.          0.          0.          0.\n",
      "    0.        ]\n",
      "  [ 0.          0.          0.          0.          0.          0.          0.\n",
      "    0.        ]\n",
      "  [ 0.          0.          0.          0.          0.          0.          0.\n",
      "    0.        ]\n",
      "  [ 0.          0.          0.          0.          0.          0.          0.\n",
      "    0.        ]\n",
      "  [ 0.          0.          0.          0.          0.          0.          0.\n",
      "    0.        ]\n",
      "  [ 0.          0.          0.          0.          0.          0.          0.\n",
      "    0.        ]\n",
      "  [ 0.          0.          0.          0.          0.          0.          0.\n",
      "    0.        ]\n",
      "  [ 0.          0.          0.          0.          0.          0.          0.\n",
      "    0.        ]]\n",
      "\n",
      " [[ 0.          0.          0.          0.          0.          0.          0.\n",
      "    0.        ]\n",
      "  [ 0.          0.          0.          0.          0.          0.          0.\n",
      "    0.        ]\n",
      "  [ 0.          0.          0.          0.          0.          0.          0.\n",
      "    0.        ]\n",
      "  [ 0.          0.          0.          0.          0.          0.          0.\n",
      "    0.        ]\n",
      "  [ 0.          0.          0.          0.          0.          0.          0.\n",
      "    0.        ]\n",
      "  [ 0.          0.          0.          0.          0.          0.          0.\n",
      "    0.        ]\n",
      "  [ 0.          0.          0.          0.          0.          0.          0.\n",
      "    0.        ]\n",
      "  [ 0.          0.          0.          0.          0.          0.          0.\n",
      "    0.        ]]\n",
      "\n",
      " [[ 0.          0.          0.          0.          0.          0.          0.\n",
      "    0.        ]\n",
      "  [ 0.          0.          0.          0.          0.          0.          0.\n",
      "    0.        ]\n",
      "  [ 0.          0.          0.          0.          0.          0.          0.\n",
      "    0.        ]\n",
      "  [ 0.          0.          0.          0.          0.          0.          0.\n",
      "    0.        ]\n",
      "  [ 0.          0.          0.          0.          0.          0.          1.\n",
      "    0.        ]\n",
      "  [ 0.          0.          0.          0.          0.          0.          0.\n",
      "    0.        ]\n",
      "  [ 0.          0.          0.          0.          0.          0.          0.\n",
      "    0.        ]\n",
      "  [ 0.          0.          0.          0.          0.          0.          0.\n",
      "    0.        ]]\n",
      "\n",
      " [[ 0.          0.          0.          0.          0.          0.          0.\n",
      "    0.        ]\n",
      "  [ 0.          0.          0.          0.          1.          0.          0.\n",
      "    0.        ]\n",
      "  [ 0.          0.          0.          0.          0.          0.          0.\n",
      "    0.        ]\n",
      "  [ 0.          0.          0.          0.          0.          0.          0.\n",
      "    0.        ]\n",
      "  [ 0.          0.          0.          0.          0.          0.          0.\n",
      "    0.        ]\n",
      "  [ 0.          0.          0.          0.          0.          0.          0.\n",
      "    0.        ]\n",
      "  [ 0.          0.          0.          0.          0.          0.          0.\n",
      "    0.        ]\n",
      "  [ 0.          0.          0.          0.          0.          0.          0.\n",
      "    0.        ]]\n",
      "\n",
      " [[ 0.76015937  0.76015937  0.76015937  0.76015937  0.76015937  0.76015937\n",
      "    0.76015937  0.76015937]\n",
      "  [ 0.76015937  0.76015937  0.76015937  0.76015937  0.76015937  0.76015937\n",
      "    0.76015937  0.76015937]\n",
      "  [ 0.76015937  0.76015937  0.76015937  0.76015937  0.76015937  0.76015937\n",
      "    0.76015937  0.76015937]\n",
      "  [ 0.76015937  0.76015937  0.76015937  0.76015937  0.76015937  0.76015937\n",
      "    0.76015937  0.76015937]\n",
      "  [ 0.76015937  0.76015937  0.76015937  0.76015937  0.76015937  0.76015937\n",
      "    0.76015937  0.76015937]\n",
      "  [ 0.76015937  0.76015937  0.76015937  0.76015937  0.76015937  0.76015937\n",
      "    0.76015937  0.76015937]\n",
      "  [ 0.76015937  0.76015937  0.76015937  0.76015937  0.76015937  0.76015937\n",
      "    0.76015937  0.76015937]\n",
      "  [ 0.76015937  0.76015937  0.76015937  0.76015937  0.76015937  0.76015937\n",
      "    0.76015937  0.76015937]]\n",
      "\n",
      " [[ 0.          0.          0.          0.          0.          0.          0.\n",
      "    0.        ]\n",
      "  [ 0.          0.          0.          0.          0.          0.          0.\n",
      "    0.        ]\n",
      "  [ 0.          0.          0.          0.          0.          0.          0.\n",
      "    0.        ]\n",
      "  [ 0.          0.          0.          0.          0.          0.          0.\n",
      "    0.        ]\n",
      "  [ 0.          0.          0.          0.          0.          0.          0.\n",
      "    0.        ]\n",
      "  [ 0.          0.          0.          0.          0.          0.          0.\n",
      "    0.        ]\n",
      "  [ 0.          0.          0.          0.          0.          0.          1.\n",
      "    0.        ]\n",
      "  [ 0.          0.          0.          0.          0.          0.          0.\n",
      "    0.        ]]]\n"
     ]
    }
   ],
   "source": [
    "im = net.blobs['data'].data[0]\n",
    "#print convert_image_to_bitboard_2(np.rollaxis(net.blobs['data'].data[0], ))\n",
    "print piecepos\n",
    "print im"
   ]
  },
  {
   "cell_type": "code",
   "execution_count": 181,
   "metadata": {
    "collapsed": false
   },
   "outputs": [
    {
     "data": {
      "text/plain": [
       "array([42])"
      ]
     },
     "execution_count": 181,
     "metadata": {},
     "output_type": "execute_result"
    }
   ],
   "source": [
    "np.array(np.where(net.blobs['data'].data[0][13].flatten()==1)).flatten()"
   ]
  },
  {
   "cell_type": "code",
   "execution_count": null,
   "metadata": {
    "collapsed": true
   },
   "outputs": [],
   "source": [
    "#piece: 0.53599478935 0.53599478935 [  3.09278976e-08] [  4.276720.53599478935 0.53599478935 [  3.09278976e-08] [  4.27672195e-05] 0.0 2.06342060113 2.06341424668\n",
    " #pawn:0.920744471074 0.204850893426 [ 1.34131602] [ 0.77584441] 0.787367654643 1.08001395504 37.5897673149195e-05] 0.0 2.06342060113 2.06341424668\n",
    " #pawn:0.920744471074 0.92078997664 [ 0.00017173] [ 0.00058239] 4.55055668477e-05 1.08001395504 1.07996844947\n",
    "    #rook:0.509804233393 0.512571364959 [ 0.00374111] [ 0.01368359] 0.00718818084954 2.31513493742 2.28972185557\n",
    "    #knight:0.727666729822 0.727666729822 [  1.73725828e-05] [ 0.00047909] 0.0 1.44417866616 1.44410761652\n",
    "    #bishop:0.598944933302 0.601279916978 [ 0.00394246] [ 0.01148387] 0.00471320779193 1.83962121376 1.82638963959\n",
    "    #queen:0.479949379103 0.484194152232 [ 0.0054937] [ 0.0189363] 0.0122861135279 2.52614094756 2.47512457486\n",
    "    #king:0.644900633326 0.647638886556 [ 0.00335276] [ 0.00382357] 0.00332622171452 1.59097552371 1.5873805164"
   ]
  }
 ],
 "metadata": {
  "kernelspec": {
   "display_name": "Python 2",
   "language": "python",
   "name": "python2"
  },
  "language_info": {
   "codemirror_mode": {
    "name": "ipython",
    "version": 2
   },
   "file_extension": ".py",
   "mimetype": "text/x-python",
   "name": "python",
   "nbconvert_exporter": "python",
   "pygments_lexer": "ipython2",
   "version": "2.7.10"
  }
 },
 "nbformat": 4,
 "nbformat_minor": 0
}
